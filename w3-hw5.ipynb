{
 "cells": [
  {
   "cell_type": "markdown",
   "id": "c5ca72d8",
   "metadata": {},
   "source": [
    "for循环输出1-100间偶数"
   ]
  },
  {
   "cell_type": "code",
   "execution_count": 1,
   "id": "59127273",
   "metadata": {},
   "outputs": [
    {
     "name": "stdout",
     "output_type": "stream",
     "text": [
      "2 4 6 8 10 12 14 16 18 20 22 24 26 28 30 32 34 36 38 40 42 44 46 48 50 52 54 56 58 60 62 64 66 68 70 72 74 76 78 80 82 84 86 88 90 92 94 96 98 100 "
     ]
    }
   ],
   "source": [
    "for i in range(1,101):\n",
    "    if i%2 == 0:\n",
    "        print(\"%d\" %i,end=\" \")"
   ]
  }
 ],
 "metadata": {
  "kernelspec": {
   "display_name": "Python 3 (ipykernel)",
   "language": "python",
   "name": "python3"
  },
  "language_info": {
   "codemirror_mode": {
    "name": "ipython",
    "version": 3
   },
   "file_extension": ".py",
   "mimetype": "text/x-python",
   "name": "python",
   "nbconvert_exporter": "python",
   "pygments_lexer": "ipython3",
   "version": "3.11.4"
  }
 },
 "nbformat": 4,
 "nbformat_minor": 5
}
