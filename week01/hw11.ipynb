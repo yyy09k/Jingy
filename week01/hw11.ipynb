{
 "cells": [
  {
   "cell_type": "code",
   "execution_count": 5,
   "id": "109cbb58",
   "metadata": {},
   "outputs": [
    {
     "name": "stdout",
     "output_type": "stream",
     "text": [
      "-8\n",
      "-2.00000\n"
     ]
    }
   ],
   "source": [
    "num = float(input())\n",
    "def cauculate_evaluate(num):\n",
    "    if num<0:\n",
    "        temp=-num\n",
    "    else:\n",
    "        temp=num\n",
    "    measure=0.0001\n",
    "    low=0\n",
    "    high=temp/2\n",
    "    #num and temp both original number\n",
    "    #high is what we evaluate\n",
    "    #measuring to make more exact\n",
    "    while abs(high*high*high-temp)>measure:\n",
    "        if (high*high*high)>temp:\n",
    "            high=high-(high-low)/2\n",
    "        else:\n",
    "            high+=(high-low)/2\n",
    "    return high\n",
    "if num>0:\n",
    "    print(\"%.5lf\" % cauculate_evaluate(num))\n",
    "else:\n",
    "    print(\"%.5lf\" % -cauculate_evaluate(num))"
   ]
  }
 ],
 "metadata": {
  "kernelspec": {
   "display_name": "Python 3 (ipykernel)",
   "language": "python",
   "name": "python3"
  },
  "language_info": {
   "codemirror_mode": {
    "name": "ipython",
    "version": 3
   },
   "file_extension": ".py",
   "mimetype": "text/x-python",
   "name": "python",
   "nbconvert_exporter": "python",
   "pygments_lexer": "ipython3",
   "version": "3.11.4"
  }
 },
 "nbformat": 4,
 "nbformat_minor": 5
}
