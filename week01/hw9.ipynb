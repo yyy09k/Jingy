{
 "cells": [
  {
   "cell_type": "code",
   "execution_count": null,
   "id": "b8324c08",
   "metadata": {},
   "outputs": [],
   "source": [
    "S = input()\n",
    "def judge_char(string):\n",
    "    seen_chars=set()\n",
    "    for char in string:\n",
    "        if char in seen_chars:\n",
    "            return True\n",
    "        seen_chars.add(char)\n",
    "    return False\n",
    "judge_char(S)"
   ]
  },
  {
   "cell_type": "code",
   "execution_count": 3,
   "id": "70f742c8",
   "metadata": {},
   "outputs": [
    {
     "name": "stdout",
     "output_type": "stream",
     "text": [
      "abcbd\n",
      "Yes\n"
     ]
    }
   ],
   "source": [
    "S=input()\n",
    "num=0\n",
    "for x in S:\n",
    "    if S.count(x)>1:\n",
    "        num+=1\n",
    "if num>=1:\n",
    "    print('Yes')\n",
    "else:\n",
    "    print('No')"
   ]
  }
 ],
 "metadata": {
  "kernelspec": {
   "display_name": "Python 3 (ipykernel)",
   "language": "python",
   "name": "python3"
  },
  "language_info": {
   "codemirror_mode": {
    "name": "ipython",
    "version": 3
   },
   "file_extension": ".py",
   "mimetype": "text/x-python",
   "name": "python",
   "nbconvert_exporter": "python",
   "pygments_lexer": "ipython3",
   "version": "3.11.4"
  }
 },
 "nbformat": 4,
 "nbformat_minor": 5
}
