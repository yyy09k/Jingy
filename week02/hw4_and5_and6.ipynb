{
 "cells": [
  {
   "cell_type": "code",
   "execution_count": 9,
   "id": "90d4f05f",
   "metadata": {},
   "outputs": [
    {
     "name": "stdout",
     "output_type": "stream",
     "text": [
      "1.4142135623746899\n"
     ]
    }
   ],
   "source": [
    "def newton(x):\n",
    "    min = 0.0000001\n",
    "    guess = x\n",
    "    while abs(guess ** 2 - x) >= min:\n",
    "        guess = guess - (((guess ** 2)-x) / (guess * 2))\n",
    "        #p(k) and the derivative of p(k)\n",
    "    return guess\n",
    "print(newton(2))\n",
    "#the formula of square root"
   ]
  },
  {
   "cell_type": "code",
   "execution_count": 2,
   "id": "bd7cccee",
   "metadata": {},
   "outputs": [
    {
     "name": "stdout",
     "output_type": "stream",
     "text": [
      "2\n",
      "1.41421\n"
     ]
    }
   ],
   "source": [
    "num = float(input())\n",
    "temp = num\n",
    "measure = 0.000001\n",
    "low = 0\n",
    "high = temp / 2\n",
    "while abs(high * high - temp) > measure:\n",
    "    if (high * high) > temp:\n",
    "        high = high - (high - low) / 2\n",
    "    else:\n",
    "        high = high + (high - low) / 2\n",
    "high = \"%.5f\" % high\n",
    "print(high)\n",
    "#a little foolish divide into half"
   ]
  },
  {
   "cell_type": "code",
   "execution_count": 10,
   "id": "7118fe70",
   "metadata": {},
   "outputs": [
    {
     "name": "stdout",
     "output_type": "stream",
     "text": [
      "1.4142135623746899\n"
     ]
    }
   ],
   "source": [
    "def newton(x):\n",
    "    min = 0.0000001\n",
    "    guess = x/2\n",
    "    while abs(guess ** 2 - x) >= min:\n",
    "        guess = guess - (((guess ** 2)-x) / (guess * 2))\n",
    "    return guess\n",
    "print(newton(2))"
   ]
  },
  {
   "cell_type": "code",
   "execution_count": 11,
   "id": "9855a412",
   "metadata": {},
   "outputs": [
    {
     "name": "stdout",
     "output_type": "stream",
     "text": [
      "2\n",
      "1.4142136\n"
     ]
    }
   ],
   "source": [
    "a = int(input())\n",
    "b = a / 4\n",
    "while True:\n",
    "    c = (b + a / b) / 2\n",
    "    if abs(b - c) < 0.00001:\n",
    "        break\n",
    "    b = c\n",
    "b = \"%.7f\" % b\n",
    "print(b)\n",
    "#the formula of square root"
   ]
  },
  {
   "cell_type": "markdown",
   "id": "b399544d",
   "metadata": {},
   "source": [
    "据以上数值打印可知，在“牛顿法”求解根号运算的过程中，对g不同的估测有一定影响"
   ]
  }
 ],
 "metadata": {
  "kernelspec": {
   "display_name": "Python 3 (ipykernel)",
   "language": "python",
   "name": "python3"
  },
  "language_info": {
   "codemirror_mode": {
    "name": "ipython",
    "version": 3
   },
   "file_extension": ".py",
   "mimetype": "text/x-python",
   "name": "python",
   "nbconvert_exporter": "python",
   "pygments_lexer": "ipython3",
   "version": "3.11.4"
  }
 },
 "nbformat": 4,
 "nbformat_minor": 5
}
