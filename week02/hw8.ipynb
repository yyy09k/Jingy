{
 "cells": [
  {
   "cell_type": "markdown",
   "id": "942684a8",
   "metadata": {},
   "source": [
    "用三种方法求解Π的值，并比较效率，精确到小数点后10位"
   ]
  },
  {
   "cell_type": "code",
   "execution_count": 5,
   "id": "14f7261a",
   "metadata": {},
   "outputs": [
    {
     "name": "stdout",
     "output_type": "stream",
     "text": [
      "3.1415924800\n",
      "time: 0.0006061999993107747\n"
     ]
    }
   ],
   "source": [
    "#way 1公式法\n",
    "#pai/2 = 1+ 1/3+ 1/3*2/5+ 1/3*2/5*3/7+ ...\n",
    "import time\n",
    "\n",
    "start = time.perf_counter()\n",
    "def pai_part(num):\n",
    "    part = 1\n",
    "    for i in range(2,num+1):\n",
    "        new= (i-1)/(i*2-1)\n",
    "        part*= new\n",
    "    return part\n",
    "\n",
    "measure = 0.0000001\n",
    "cnt = 1\n",
    "sum = 1\n",
    "num = 1\n",
    "while num>measure:\n",
    "    cnt+=1\n",
    "    num = pai_part(cnt)\n",
    "    sum +=num\n",
    "end = time.perf_counter()\n",
    "runtime= end - start\n",
    "\n",
    "print(\"%.10lf\" %(sum*2))\n",
    "print(\"time:\", runtime)\n",
    "#result - second"
   ]
  },
  {
   "cell_type": "code",
   "execution_count": 6,
   "id": "c47b856c",
   "metadata": {},
   "outputs": [
    {
     "name": "stdout",
     "output_type": "stream",
     "text": [
      "3.1420280000\n",
      "time: 0.7962025000015274\n"
     ]
    }
   ],
   "source": [
    "#way2 蒙特卡洛实验(圆半径作图)\n",
    "from random import random\n",
    "from time import perf_counter\n",
    "\n",
    "start = perf_counter()\n",
    "num_dots = 1000*1000\n",
    "cnt_right = 0.0\n",
    "for i in range(1,num_dots+1):\n",
    "    x,y = random(),random()\n",
    "    #random() between 0 and 1 float\n",
    "    d = pow(x**2+y**2,0.5)\n",
    "    if d<1:\n",
    "        cnt_right+=1\n",
    "pai = 4*(cnt_right/num_dots)\n",
    "end = perf_counter()\n",
    "runtime = end-start\n",
    "\n",
    "print(\"%.10lf\" %pai)\n",
    "print(\"time:\",runtime)"
   ]
  },
  {
   "cell_type": "code",
   "execution_count": 9,
   "id": "174e7f90",
   "metadata": {},
   "outputs": [
    {
     "name": "stdout",
     "output_type": "stream",
     "text": [
      "3.1415926536\n",
      "time: 8.95000011951197e-05\n"
     ]
    }
   ],
   "source": [
    "#way3 调用函数\n",
    "import math\n",
    "import time\n",
    "\n",
    "start = time.perf_counter()\n",
    "pai = math.pi\n",
    "end = time.perf_counter()\n",
    "runtime = end -start\n",
    "\n",
    "print(\"%.10lf\" %pai)\n",
    "print(\"time:\", runtime)"
   ]
  },
  {
   "cell_type": "markdown",
   "id": "1193561b",
   "metadata": {},
   "source": [
    "由时间及计算结果可知，直接调用math库中函数效率最高，用时最少且精度最高"
   ]
  }
 ],
 "metadata": {
  "kernelspec": {
   "display_name": "Python 3 (ipykernel)",
   "language": "python",
   "name": "python3"
  },
  "language_info": {
   "codemirror_mode": {
    "name": "ipython",
    "version": 3
   },
   "file_extension": ".py",
   "mimetype": "text/x-python",
   "name": "python",
   "nbconvert_exporter": "python",
   "pygments_lexer": "ipython3",
   "version": "3.11.4"
  }
 },
 "nbformat": 4,
 "nbformat_minor": 5
}
