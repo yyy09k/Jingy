{
 "cells": [
  {
   "cell_type": "code",
   "execution_count": 5,
   "id": "90bd7256",
   "metadata": {},
   "outputs": [
    {
     "name": "stdout",
     "output_type": "stream",
     "text": [
      "r1=1024 r2=1048576 r3=1073741824 r4=1099511627776 r5=1125899906842624 "
     ]
    }
   ],
   "source": [
    "a = 2\n",
    "r1 = a**10\n",
    "r2 = a**20\n",
    "r3 = a**30\n",
    "r4 = a**40\n",
    "r5 = a**50\n",
    "print(\"r1=%d\" %r1,\"r2=%d\" %r2,\"r3=%d\" %r3,\"r4=%d\" %r4,\"r5=%d\" %r5,end=\" \")"
   ]
  }
 ],
 "metadata": {
  "kernelspec": {
   "display_name": "Python 3 (ipykernel)",
   "language": "python",
   "name": "python3"
  },
  "language_info": {
   "codemirror_mode": {
    "name": "ipython",
    "version": 3
   },
   "file_extension": ".py",
   "mimetype": "text/x-python",
   "name": "python",
   "nbconvert_exporter": "python",
   "pygments_lexer": "ipython3",
   "version": "3.11.4"
  }
 },
 "nbformat": 4,
 "nbformat_minor": 5
}
