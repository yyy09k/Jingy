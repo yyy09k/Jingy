{
 "cells": [
  {
   "cell_type": "markdown",
   "id": "fd9f3976",
   "metadata": {},
   "source": [
    "蒙特卡洛法求解定积分"
   ]
  },
  {
   "cell_type": "code",
   "execution_count": 4,
   "id": "44d45f2c",
   "metadata": {},
   "outputs": [
    {
     "name": "stdout",
     "output_type": "stream",
     "text": [
      "11.83137\n"
     ]
    }
   ],
   "source": [
    "import random\n",
    "import math\n",
    "\n",
    "num_dots = 1000*1000\n",
    "cnt_right = 0.0\n",
    "for i in range(1,num_dots+1):\n",
    "    x,y= random.uniform(2,3),random.uniform(0,30)\n",
    "    #random.uniform return [a,b)float\n",
    "    if y<= (x**2)+4*x*math.sin(x):\n",
    "        cnt_right+=1\n",
    "result = cnt_right/num_dots*30\n",
    "#origin area is 1*30!!\n",
    "\n",
    "print(result)"
   ]
  }
 ],
 "metadata": {
  "kernelspec": {
   "display_name": "Python 3 (ipykernel)",
   "language": "python",
   "name": "python3"
  },
  "language_info": {
   "codemirror_mode": {
    "name": "ipython",
    "version": 3
   },
   "file_extension": ".py",
   "mimetype": "text/x-python",
   "name": "python",
   "nbconvert_exporter": "python",
   "pygments_lexer": "ipython3",
   "version": "3.11.4"
  }
 },
 "nbformat": 4,
 "nbformat_minor": 5
}
