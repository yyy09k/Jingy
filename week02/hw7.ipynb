{
 "cells": [
  {
   "cell_type": "markdown",
   "id": "05722b24",
   "metadata": {},
   "source": [
    "牛顿迭代法：\n",
    "Xn+1 = Xn - f（Xn）/f'（Xn）\n",
    "定义：f（Xn） = y^3 - x = 0\n",
    "    f'（Xn）= 3y^2 = 0\n",
    "【求解立方根 y = 三次根号下x】"
   ]
  },
  {
   "cell_type": "code",
   "execution_count": 1,
   "id": "8c2a27d7",
   "metadata": {},
   "outputs": [
    {
     "name": "stdout",
     "output_type": "stream",
     "text": [
      "10\n",
      "2.154435\n"
     ]
    }
   ],
   "source": [
    "c = int(input())\n",
    "measure = 0.0000001\n",
    "guess = c\n",
    "#guess is y upward\n",
    "#c is x upward\n",
    "while abs(guess**3 - c) >= measure:\n",
    "    #not accurate enough\n",
    "    guess = guess - (guess**3 - c)/(3*(guess**2))\n",
    "print(\"%.6lf\" %guess)"
   ]
  }
 ],
 "metadata": {
  "kernelspec": {
   "display_name": "Python 3 (ipykernel)",
   "language": "python",
   "name": "python3"
  },
  "language_info": {
   "codemirror_mode": {
    "name": "ipython",
    "version": 3
   },
   "file_extension": ".py",
   "mimetype": "text/x-python",
   "name": "python",
   "nbconvert_exporter": "python",
   "pygments_lexer": "ipython3",
   "version": "3.11.4"
  }
 },
 "nbformat": 4,
 "nbformat_minor": 5
}
