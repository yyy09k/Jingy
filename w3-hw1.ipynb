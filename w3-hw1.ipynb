{
 "cells": [
  {
   "cell_type": "markdown",
   "id": "e2908f5a",
   "metadata": {},
   "source": [
    "10和2进制小数转化：\n",
    "    对10进制小数不断*2，得到整数部分即为二进制小数，直到小数部分为0或达到精度要求\n",
    "    第一次得到为最高位，最后一次为最低位"
   ]
  },
  {
   "cell_type": "code",
   "execution_count": 4,
   "id": "f0074cd9",
   "metadata": {
    "scrolled": true
   },
   "outputs": [],
   "source": [
    "#point part\n",
    "def change_decimalism_to_binary(num):\n",
    "    num-=int(num)\n",
    "    List=[]\n",
    "    while num:\n",
    "        num*=2\n",
    "        if num>=1:\n",
    "            List.append(1)\n",
    "        else:\n",
    "            List.append(0)\n",
    "        num-=int(num)\n",
    "    for item in List:\n",
    "        print(item, end=\"\")"
   ]
  },
  {
   "cell_type": "code",
   "execution_count": 5,
   "id": "89ea12d9",
   "metadata": {},
   "outputs": [],
   "source": [
    "#zheng part\n",
    "def change(num):\n",
    "    num=int(num)\n",
    "    num=bin(num)\n",
    "    print(num,end=\"\")"
   ]
  },
  {
   "cell_type": "code",
   "execution_count": 6,
   "id": "44cf4c43",
   "metadata": {},
   "outputs": [
    {
     "name": "stdout",
     "output_type": "stream",
     "text": [
      "2.1\n",
      "0b10.000110011001100110011001100110011001100110011001101"
     ]
    }
   ],
   "source": [
    "num=float(input())\n",
    "change(num)\n",
    "print(\".\",end=\"\")\n",
    "change_decimalism_to_binary(num)"
   ]
  }
 ],
 "metadata": {
  "kernelspec": {
   "display_name": "Python 3 (ipykernel)",
   "language": "python",
   "name": "python3"
  },
  "language_info": {
   "codemirror_mode": {
    "name": "ipython",
    "version": 3
   },
   "file_extension": ".py",
   "mimetype": "text/x-python",
   "name": "python",
   "nbconvert_exporter": "python",
   "pygments_lexer": "ipython3",
   "version": "3.11.4"
  }
 },
 "nbformat": 4,
 "nbformat_minor": 5
}
