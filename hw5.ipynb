{
 "cells": [
  {
   "cell_type": "code",
   "execution_count": 2,
   "id": "018a04e6",
   "metadata": {},
   "outputs": [
    {
     "name": "stdout",
     "output_type": "stream",
     "text": [
      "5\n",
      "9\n",
      "1\n",
      "3\n",
      "9 5 3 1\n"
     ]
    }
   ],
   "source": [
    "w = input()\n",
    "x = input()\n",
    "y = input()\n",
    "z = input()\n",
    "if w>x:\n",
    "    w,x=x,w\n",
    "if w>y:\n",
    "    w,y=y,w\n",
    "if w>z:\n",
    "    w,z=z,w\n",
    "if x>y:\n",
    "    x,y=y,x\n",
    "if x>z:\n",
    "    x,z=z,x\n",
    "if y>z:\n",
    "    y,z=z,y\n",
    "print(z,y,x,w)"
   ]
  }
 ],
 "metadata": {
  "kernelspec": {
   "display_name": "Python 3 (ipykernel)",
   "language": "python",
   "name": "python3"
  },
  "language_info": {
   "codemirror_mode": {
    "name": "ipython",
    "version": 3
   },
   "file_extension": ".py",
   "mimetype": "text/x-python",
   "name": "python",
   "nbconvert_exporter": "python",
   "pygments_lexer": "ipython3",
   "version": "3.11.4"
  }
 },
 "nbformat": 4,
 "nbformat_minor": 5
}
