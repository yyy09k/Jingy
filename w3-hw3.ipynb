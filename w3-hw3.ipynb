{
 "cells": [
  {
   "cell_type": "markdown",
   "id": "612ae3ca",
   "metadata": {},
   "source": [
    "正则表达式验证身份证号是否合法"
   ]
  },
  {
   "cell_type": "code",
   "execution_count": 3,
   "id": "884947ae",
   "metadata": {},
   "outputs": [
    {
     "name": "stdout",
     "output_type": "stream",
     "text": [
      "1003\n",
      "身份证号不合法！\n"
     ]
    }
   ],
   "source": [
    "from re import match\n",
    "id_card=input()\n",
    "pattern=r\"^[1-9]\\d{5}(19|20)\\d{2}(0[1-9]|1[0-2])(0[1-9]|[1-2][1-9]|30|31)\\d{3}[0-9Xx]$\"\n",
    "if match(pattern,id_card):\n",
    "    print(\"身份证号合法！\")\n",
    "else:\n",
    "    print(\"身份证号不合法！\")\n",
    "    \n",
    "#r means origin regardless change like \\n\n",
    "#^ means begin with sth in \"\"\n",
    "#\\d means [1-9] {times}\n",
    "#(one sth)\n",
    "#$ means end"
   ]
  },
  {
   "cell_type": "markdown",
   "id": "8769332f",
   "metadata": {},
   "source": [
    "https://blog.csdn.net/guo_qingxia/article/details/113979135\n",
    "re模块函数\n",
    "https://www.runoob.com/regexp/regexp-syntax.html\n",
    "正则表达式"
   ]
  }
 ],
 "metadata": {
  "kernelspec": {
   "display_name": "Python 3 (ipykernel)",
   "language": "python",
   "name": "python3"
  },
  "language_info": {
   "codemirror_mode": {
    "name": "ipython",
    "version": 3
   },
   "file_extension": ".py",
   "mimetype": "text/x-python",
   "name": "python",
   "nbconvert_exporter": "python",
   "pygments_lexer": "ipython3",
   "version": "3.11.4"
  }
 },
 "nbformat": 4,
 "nbformat_minor": 5
}
