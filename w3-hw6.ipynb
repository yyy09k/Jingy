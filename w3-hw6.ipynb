{
 "cells": [
  {
   "cell_type": "markdown",
   "id": "4eaed226",
   "metadata": {},
   "source": [
    "if 语句实现百分制转等级制(考试成绩,60 分以下为不合格,60-74 分为合格，75-89 分为良好,90 分以上为优秀)"
   ]
  },
  {
   "cell_type": "code",
   "execution_count": 1,
   "id": "e96b107b",
   "metadata": {},
   "outputs": [
    {
     "name": "stdout",
     "output_type": "stream",
     "text": [
      "70\n",
      "合格！\n"
     ]
    }
   ],
   "source": [
    "score = float(input())\n",
    "if score < 60:\n",
    "    print(\"不合格！\")\n",
    "elif score>=60 and score<=74:\n",
    "    print(\"合格！\")\n",
    "elif score>=75 and score<=89:\n",
    "    print(\"良好！\")\n",
    "elif score>=90:\n",
    "    print(\"优秀！\")"
   ]
  }
 ],
 "metadata": {
  "kernelspec": {
   "display_name": "Python 3 (ipykernel)",
   "language": "python",
   "name": "python3"
  },
  "language_info": {
   "codemirror_mode": {
    "name": "ipython",
    "version": 3
   },
   "file_extension": ".py",
   "mimetype": "text/x-python",
   "name": "python",
   "nbconvert_exporter": "python",
   "pygments_lexer": "ipython3",
   "version": "3.11.4"
  }
 },
 "nbformat": 4,
 "nbformat_minor": 5
}
