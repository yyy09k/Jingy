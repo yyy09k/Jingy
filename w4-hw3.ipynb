{
 "cells": [
  {
   "cell_type": "code",
   "execution_count": 14,
   "id": "2ebb2127",
   "metadata": {},
   "outputs": [
    {
     "name": "stdout",
     "output_type": "stream",
     "text": [
      "9\n",
      "10\n",
      "3\n",
      "5\n",
      "7\n",
      "[9, 10, 3, 5, 7]\n",
      "[3, 9, 10, 5, 7]\n",
      "[3, 5, 9, 10, 7]\n",
      "[3, 5, 7, 9, 10]\n"
     ]
    },
    {
     "data": {
      "text/plain": [
       "[3, 5, 7, 9, 10]"
      ]
     },
     "execution_count": 14,
     "metadata": {},
     "output_type": "execute_result"
    }
   ],
   "source": [
    "# 插入排序\n",
    "def insertion_sort(array):\n",
    "    for j in range(1,len(array)):  \n",
    "        # 设置当前需要插入的元素\n",
    "        key=array[j]\n",
    "        i=j-1\n",
    "        # 与当前元素比较的比较元素\n",
    "        while i >= 0 and array[i] > key:\n",
    "            # 当比较元素大于当前元素则把比较元素后移\n",
    "            array[i+1]=array[i]\n",
    "            # 往前选择下一个比较元素\n",
    "            i-=1\n",
    "        array[i+1]=key\n",
    "        print(array)\n",
    "        # 当比较元素小于当前元素 则把当前元素插入在其后\n",
    "    return array\n",
    "    \n",
    "L=[]\n",
    "for i in range(5):\n",
    "    a=int(input())\n",
    "    L.append(a)\n",
    "insertion_sort(L)"
   ]
  }
 ],
 "metadata": {
  "kernelspec": {
   "display_name": "Python 3 (ipykernel)",
   "language": "python",
   "name": "python3"
  },
  "language_info": {
   "codemirror_mode": {
    "name": "ipython",
    "version": 3
   },
   "file_extension": ".py",
   "mimetype": "text/x-python",
   "name": "python",
   "nbconvert_exporter": "python",
   "pygments_lexer": "ipython3",
   "version": "3.11.4"
  }
 },
 "nbformat": 4,
 "nbformat_minor": 5
}
