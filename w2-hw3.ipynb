{
 "cells": [
  {
   "cell_type": "markdown",
   "id": "08899cc5",
   "metadata": {},
   "source": [
    "农夫与狼与羊与草的渡河问题\n",
    "暂定 农夫=0 狼=1 羊=2 草=3\n",
    "初始状态为【F,F,F,F】，目标状态为【T,T,T,T】"
   ]
  },
  {
   "cell_type": "code",
   "execution_count": 16,
   "id": "233fd7ab",
   "metadata": {},
   "outputs": [],
   "source": [
    "name = [\"farmer\",\"wolf\",\"sheep\",\"grass\"]\n",
    "cnt = 0"
   ]
  },
  {
   "cell_type": "code",
   "execution_count": 17,
   "id": "ae7152ab",
   "metadata": {},
   "outputs": [],
   "source": [
    "#judge if is safe\n",
    "def is_safe_status(status):\n",
    "    if status[1]==status[2]:\n",
    "        if status[0]!= status[2]:\n",
    "            return False\n",
    "    if status[2]==status[3]:\n",
    "        if status[0]!=status[2]:\n",
    "            return False\n",
    "    return True"
   ]
  },
  {
   "cell_type": "code",
   "execution_count": 18,
   "id": "7746e831",
   "metadata": {},
   "outputs": [],
   "source": [
    "#judge whether all have acrossed\n",
    "def is_all_acrossed(status):\n",
    "    return status[0] and status[1] and status[2] and status[3]"
   ]
  },
  {
   "cell_type": "code",
   "execution_count": 19,
   "id": "4b62ef6a",
   "metadata": {},
   "outputs": [],
   "source": [
    "#create all situations of next status\n",
    "def create_sit_of_nextstatus(status):\n",
    "    all_next_status= []\n",
    "    for i in range(0,4):\n",
    "        if status[0]==status[i]:\n",
    "            next_status=[status[0],status[1],status[2],status[3]]\n",
    "            next_status[0] = not next_status[0]\n",
    "            #farmer acrossed\n",
    "            next_status[i]=next_status[0]\n",
    "            #sth along with farmer\n",
    "            \n",
    "            if is_safe_status(next_status):\n",
    "                all_next_status.append(next_status)\n",
    "    return all_next_status"
   ]
  },
  {
   "cell_type": "code",
   "execution_count": 20,
   "id": "6b9de657",
   "metadata": {},
   "outputs": [],
   "source": [
    "#produce steps\n",
    "def search_step(all_history_status):\n",
    "    global cnt\n",
    "    current_status = all_history_status[len(all_history_status)-1]\n",
    "    #the last part of history status\n",
    "    all_next_status=create_sit_of_nextstatus(current_status)\n",
    "    for next_status in all_next_status:\n",
    "        if next_status in all_history_status:\n",
    "            continue\n",
    "        #repeated\n",
    "        all_history_status.append(next_status)\n",
    "        \n",
    "        if is_all_acrossed(next_status):\n",
    "            cnt+=1\n",
    "            print(\"way\"+str(cnt)+\":\")\n",
    "            print_all_history(all_history_status)\n",
    "        else:\n",
    "            search_step(all_history_status)\n",
    "        \n",
    "        all_history_status.pop()\n",
    "        #out outside one"
   ]
  },
  {
   "cell_type": "code",
   "execution_count": 21,
   "id": "1e209f01",
   "metadata": {},
   "outputs": [],
   "source": [
    "def print_all_history(all_history_status):\n",
    "    for status in all_history_status:\n",
    "        print(show(status,False)+\"->\"+show(status,True))"
   ]
  },
  {
   "cell_type": "code",
   "execution_count": 22,
   "id": "5c848e94",
   "metadata": {},
   "outputs": [],
   "source": [
    "def show(status,riverside):\n",
    "    result=\"\"\n",
    "    for i in range(0,4):\n",
    "        if status[i]==riverside:\n",
    "            if len(result)!=0:\n",
    "                result+=\",\"\n",
    "            result+=name[i]\n",
    "    return result"
   ]
  },
  {
   "cell_type": "code",
   "execution_count": 23,
   "id": "5d393e06",
   "metadata": {},
   "outputs": [
    {
     "name": "stdout",
     "output_type": "stream",
     "text": [
      "way1:\n",
      "farmer,wolf,sheep,grass->\n",
      "wolf,grass->farmer,sheep\n",
      "farmer,wolf,grass->sheep\n",
      "grass->farmer,wolf,sheep\n",
      "farmer,sheep,grass->wolf\n",
      "sheep->farmer,wolf,grass\n",
      "farmer,sheep->wolf,grass\n",
      "->farmer,wolf,sheep,grass\n",
      "way2:\n",
      "farmer,wolf,sheep,grass->\n",
      "wolf,grass->farmer,sheep\n",
      "farmer,wolf,grass->sheep\n",
      "wolf->farmer,sheep,grass\n",
      "farmer,wolf,sheep->grass\n",
      "sheep->farmer,wolf,grass\n",
      "farmer,sheep->wolf,grass\n",
      "->farmer,wolf,sheep,grass\n"
     ]
    }
   ],
   "source": [
    "status = [False,False,False,False]\n",
    "all_history_status=[status]\n",
    "search_step(all_history_status)"
   ]
  }
 ],
 "metadata": {
  "kernelspec": {
   "display_name": "Python 3 (ipykernel)",
   "language": "python",
   "name": "python3"
  },
  "language_info": {
   "codemirror_mode": {
    "name": "ipython",
    "version": 3
   },
   "file_extension": ".py",
   "mimetype": "text/x-python",
   "name": "python",
   "nbconvert_exporter": "python",
   "pygments_lexer": "ipython3",
   "version": "3.11.4"
  }
 },
 "nbformat": 4,
 "nbformat_minor": 5
}
