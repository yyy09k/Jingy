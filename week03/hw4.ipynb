{
 "cells": [
  {
   "cell_type": "code",
   "execution_count": 1,
   "id": "781aa205",
   "metadata": {},
   "outputs": [
    {
     "name": "stdout",
     "output_type": "stream",
     "text": [
      "add\n",
      "9\n",
      "add\n",
      "10\n",
      "add\n",
      "46\n",
      "add\n",
      "23\n",
      "replace\n",
      "9\n",
      "3\n",
      "9 has been replaced by 3\n",
      "search\n",
      "10\n",
      "10 has been found in the list\n",
      "end\n"
     ]
    }
   ],
   "source": [
    "class Node(object):\n",
    "    def __init__(self,data,next=None):\n",
    "        self.data=data\n",
    "        self.next=next\n",
    "        \n",
    "class List(object):\n",
    "    def __init__(self):\n",
    "        self.head=None\n",
    "        self.length=0\n",
    "    #查找\n",
    "    def searchItem(self,targetItem):\n",
    "        temp=self.head\n",
    "        while temp!=None and temp.data!=targetItem:\n",
    "            temp=temp.next\n",
    "        if temp!=None:\n",
    "            print(targetItem,\"has been found in the list\")\n",
    "        else:\n",
    "            print(targetItem,\"is not in the list\")\n",
    "    \n",
    "    #改\n",
    "    def replaceItem(self,targetItem,newItem):\n",
    "        temp=self.head\n",
    "        while temp!=None and temp.data!=targetItem:\n",
    "            temp=temp.next\n",
    "        if temp!=None:\n",
    "            temp.data=newItem\n",
    "            print(targetItem,\"has been replaced by\",newItem)\n",
    "        else:\n",
    "            print(targetItem,\"is not in the list\")\n",
    "    #增(列表末)\n",
    "    def add(self,newItem):\n",
    "        if self.head is None:\n",
    "            self.head=Node(newItem,self.head)\n",
    "        else:\n",
    "            temp=self.head\n",
    "            while temp.next!=None:\n",
    "                temp=temp.next\n",
    "            temp.next=Node(newItem,None)\n",
    "        self.length+=1\n",
    "        \n",
    "    #删（列表末）\n",
    "    def delete(self):\n",
    "        if self.head.next is None:\n",
    "            self.head=None\n",
    "        else:\n",
    "            #先找到倒数第二个元素，后删除最后一个元素\n",
    "            temp=self.head\n",
    "            while temp.next.next!=None:\n",
    "                temp=temp.next\n",
    "            removeItem=temp.next.data\n",
    "            temp.next=None\n",
    "        self.length-=1\n",
    "\n",
    "linklist=List()\n",
    "operation=input()\n",
    "while operation!=\"end\":\n",
    "    if operation == \"add\":\n",
    "        num=int(input())\n",
    "        linklist.add(num)\n",
    "    elif operation == \"delete\":\n",
    "        linklist.delete()\n",
    "    elif operation == \"replace\":\n",
    "        target=int(input())\n",
    "        new_num=int(input())\n",
    "        linklist.replaceItem(target,new_num)\n",
    "    elif operation == \"search\":\n",
    "        target=int(input())\n",
    "        linklist.searchItem(target)\n",
    "    operation=input()"
   ]
  },
  {
   "cell_type": "code",
   "execution_count": null,
   "id": "e35e3932",
   "metadata": {},
   "outputs": [],
   "source": [
    "定义一个单链表类及单链表结点类\n",
    "注意init\n",
    "https://blog.csdn.net/Tonywu2018/article/details/88853533"
   ]
  }
 ],
 "metadata": {
  "kernelspec": {
   "display_name": "Python 3 (ipykernel)",
   "language": "python",
   "name": "python3"
  },
  "language_info": {
   "codemirror_mode": {
    "name": "ipython",
    "version": 3
   },
   "file_extension": ".py",
   "mimetype": "text/x-python",
   "name": "python",
   "nbconvert_exporter": "python",
   "pygments_lexer": "ipython3",
   "version": "3.11.4"
  }
 },
 "nbformat": 4,
 "nbformat_minor": 5
}
