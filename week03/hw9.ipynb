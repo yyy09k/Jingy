{
 "cells": [
  {
   "cell_type": "code",
   "execution_count": 6,
   "id": "ebbf8e2f",
   "metadata": {},
   "outputs": [
    {
     "name": "stdout",
     "output_type": "stream",
     "text": [
      "1 2 3\n",
      "[6, 3, 2]\n"
     ]
    }
   ],
   "source": [
    "A=input().split()\n",
    "B=[]\n",
    "for i in range(len(A)):\n",
    "    num=1\n",
    "    for item in A:\n",
    "        if item!=A[i]:\n",
    "            num*=int(item)\n",
    "    B.append(num)\n",
    "print(B)"
   ]
  },
  {
   "cell_type": "markdown",
   "id": "d0e6ccb3",
   "metadata": {},
   "source": [
    "输入列表https://blog.csdn.net/python_o/article/details/89482153"
   ]
  }
 ],
 "metadata": {
  "kernelspec": {
   "display_name": "Python 3 (ipykernel)",
   "language": "python",
   "name": "python3"
  },
  "language_info": {
   "codemirror_mode": {
    "name": "ipython",
    "version": 3
   },
   "file_extension": ".py",
   "mimetype": "text/x-python",
   "name": "python",
   "nbconvert_exporter": "python",
   "pygments_lexer": "ipython3",
   "version": "3.11.4"
  }
 },
 "nbformat": 4,
 "nbformat_minor": 5
}
