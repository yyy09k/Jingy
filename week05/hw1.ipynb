{
 "cells": [
  {
   "cell_type": "markdown",
   "id": "208031dc",
   "metadata": {},
   "source": [
    "判断a是否为质数"
   ]
  },
  {
   "cell_type": "code",
   "execution_count": 6,
   "id": "f52a7a2b",
   "metadata": {},
   "outputs": [
    {
     "name": "stdout",
     "output_type": "stream",
     "text": [
      "1\n",
      "1不为质数！\n"
     ]
    }
   ],
   "source": [
    "a=int(input())\n",
    "sum=0\n",
    "for i in range(2,a):\n",
    "    if a%i == 0:\n",
    "        sum+=i\n",
    "if sum==0 and a!=1:\n",
    "    print(\"%d为质数！\" %a)\n",
    "else:\n",
    "    print(\"%d不为质数！\" %a)"
   ]
  }
 ],
 "metadata": {
  "kernelspec": {
   "display_name": "Python 3 (ipykernel)",
   "language": "python",
   "name": "python3"
  },
  "language_info": {
   "codemirror_mode": {
    "name": "ipython",
    "version": 3
   },
   "file_extension": ".py",
   "mimetype": "text/x-python",
   "name": "python",
   "nbconvert_exporter": "python",
   "pygments_lexer": "ipython3",
   "version": "3.11.4"
  }
 },
 "nbformat": 4,
 "nbformat_minor": 5
}
