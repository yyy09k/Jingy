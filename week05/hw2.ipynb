{
 "cells": [
  {
   "cell_type": "code",
   "execution_count": 9,
   "id": "4b80d6e7",
   "metadata": {},
   "outputs": [
    {
     "name": "stdout",
     "output_type": "stream",
     "text": [
      "7\n",
      "time:1.128269899985753s\n"
     ]
    }
   ],
   "source": [
    "import time\n",
    "\n",
    "start=time.perf_counter()\n",
    "a=int(input())\n",
    "sum=0\n",
    "cnt=0\n",
    "for i in range(2,a):\n",
    "    if a%i == 0:\n",
    "        sum+=i\n",
    "if sum==0 and a!=1:\n",
    "    cnt+=1\n",
    "else:\n",
    "    cnt=cnt\n",
    "end=time.perf_counter()\n",
    "runtime=end-start\n",
    "print(\"time:\"+str(runtime)+\"s\")"
   ]
  }
 ],
 "metadata": {
  "kernelspec": {
   "display_name": "Python 3 (ipykernel)",
   "language": "python",
   "name": "python3"
  },
  "language_info": {
   "codemirror_mode": {
    "name": "ipython",
    "version": 3
   },
   "file_extension": ".py",
   "mimetype": "text/x-python",
   "name": "python",
   "nbconvert_exporter": "python",
   "pygments_lexer": "ipython3",
   "version": "3.11.4"
  }
 },
 "nbformat": 4,
 "nbformat_minor": 5
}
