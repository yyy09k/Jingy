{
 "cells": [
  {
   "cell_type": "code",
   "execution_count": 3,
   "id": "be357240",
   "metadata": {},
   "outputs": [
    {
     "name": "stdout",
     "output_type": "stream",
     "text": [
      "7\n",
      "10\n",
      "4\n",
      "2\n",
      "8\n",
      "[2, 4, 7, 8, 10]\n"
     ]
    }
   ],
   "source": [
    "# 希尔排序https://zhuanlan.zhihu.com/p/122632213\n",
    "#将待排序列分割为若干个子序列分别进行直接插入排序，依次缩减增量进行排序（直至增量够小）\n",
    "def shell_sort(nums):\n",
    "    n = len(nums)\n",
    "    gap = n // 2  \n",
    "    #确定分组长度，即相隔距离为gap的元素组成一组\n",
    "    while gap > 0:\n",
    "        for i in range(gap, n):  # 开始插入排序\n",
    "            current = nums[i]\n",
    "            j = i - gap\n",
    "            if j >= 0 and nums[j] > current:\n",
    "                nums[j + gap] = nums[j]\n",
    "                j -= gap\n",
    "            nums[j + gap] = current\n",
    "        gap //= 2\n",
    "        \n",
    "L=[]\n",
    "for i in range(5):\n",
    "    a=int(input())\n",
    "    L.append(a)\n",
    "shell_sort(L)\n",
    "print(L)"
   ]
  },
  {
   "cell_type": "markdown",
   "id": "29e34975",
   "metadata": {},
   "source": [
    "平均时间复杂度为T(n）=O（nlogn）\n",
    "最差时间复杂度为T（n）=O（n^2)\n",
    "空间复杂度为O（1）\n",
    "是一个不稳定的排序算法，是以插入排序为基础的优化"
   ]
  }
 ],
 "metadata": {
  "kernelspec": {
   "display_name": "Python 3 (ipykernel)",
   "language": "python",
   "name": "python3"
  },
  "language_info": {
   "codemirror_mode": {
    "name": "ipython",
    "version": 3
   },
   "file_extension": ".py",
   "mimetype": "text/x-python",
   "name": "python",
   "nbconvert_exporter": "python",
   "pygments_lexer": "ipython3",
   "version": "3.11.4"
  }
 },
 "nbformat": 4,
 "nbformat_minor": 5
}
