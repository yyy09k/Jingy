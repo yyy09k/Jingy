{
 "cells": [
  {
   "cell_type": "code",
   "execution_count": 4,
   "id": "385632e0",
   "metadata": {},
   "outputs": [
    {
     "name": "stdout",
     "output_type": "stream",
     "text": [
      "3 5 7 9 1\n",
      "[9, 7, 5, 3, 1]\n"
     ]
    }
   ],
   "source": [
    "L = input().split()\n",
    "L = [int(x) for x in L]\n",
    "def for_sort(s):\n",
    "    for i in range(len(s)):\n",
    "        for j in range(len(s)):\n",
    "            if s[i]>s[j]:\n",
    "                temp=s[i]\n",
    "                s[i]=s[j]\n",
    "                s[j]=temp\n",
    "for_sort(L)\n",
    "print(L)"
   ]
  },
  {
   "cell_type": "code",
   "execution_count": 7,
   "id": "678830f5",
   "metadata": {},
   "outputs": [
    {
     "name": "stdout",
     "output_type": "stream",
     "text": [
      "2 6 8 3 9\n",
      "[9, 3, 8, 6, 2]\n"
     ]
    }
   ],
   "source": [
    "L=input().split()\n",
    "L=[int(x) for x in L]\n",
    "def while_sort(s):\n",
    "    l=0\n",
    "    r=len(s)-1\n",
    "    while l<r:\n",
    "        temps=s[l]\n",
    "        s[l]=s[r]\n",
    "        s[r]=temps\n",
    "        l+=1\n",
    "        r-=1\n",
    "while_sort(L)\n",
    "print(L)"
   ]
  }
 ],
 "metadata": {
  "kernelspec": {
   "display_name": "Python 3 (ipykernel)",
   "language": "python",
   "name": "python3"
  },
  "language_info": {
   "codemirror_mode": {
    "name": "ipython",
    "version": 3
   },
   "file_extension": ".py",
   "mimetype": "text/x-python",
   "name": "python",
   "nbconvert_exporter": "python",
   "pygments_lexer": "ipython3",
   "version": "3.11.4"
  }
 },
 "nbformat": 4,
 "nbformat_minor": 5
}
