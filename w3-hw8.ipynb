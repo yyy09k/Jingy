{
 "cells": [
  {
   "cell_type": "markdown",
   "id": "2a669982",
   "metadata": {},
   "source": [
    "随机生成多组长度递增的随机数列,使用不同的排序算法(如选择排序和归并排序)对这些数列的数据排序,请分析不同排序算法在不同长度数列下的运行效果。"
   ]
  },
  {
   "cell_type": "code",
   "execution_count": 1,
   "id": "577a3544",
   "metadata": {},
   "outputs": [],
   "source": [
    "#selection sort\n",
    "def selection_sort(arr):\n",
    "    for i in range(len(arr)-1):\n",
    "        min_index=i\n",
    "        for j in range(i+1,len(arr)):\n",
    "            if arr[min_index]>arr[j]:\n",
    "                min_index=j\n",
    "        if i!=min_index:\n",
    "            arr[i],arr[min_index]=arr[min_index],arr[i]\n",
    "    return arr\n",
    "#select the minimum or maximum to sort"
   ]
  },
  {
   "cell_type": "code",
   "execution_count": 2,
   "id": "07c5c63f",
   "metadata": {},
   "outputs": [],
   "source": [
    "#merge sort\n",
    "#https://www.cnblogs.com/pythonbao/p/10800699.html\n",
    "def merge_sort(arr):\n",
    "    #归并排序——分解\n",
    "    if len(arr)==1:\n",
    "        return arr\n",
    "    mid=len(arr)//2\n",
    "    #地板除\n",
    "    arr1=arr[:mid]\n",
    "    arr2=arr[mid:]\n",
    "    return merge(merge_sort(arr1),merge_sort(arr2))\n",
    "\n",
    "def merge(arr1,arr2):\n",
    "    #排序合并——合并\n",
    "    result=[]\n",
    "    while len(arr1)>0 and len(arr2)>0:\n",
    "        if arr1[0]<=arr2[0]:\n",
    "            result.append(arr1.pop(0))\n",
    "        else:\n",
    "            result.append(arr2.pop(0))\n",
    "    if len(arr1)==0:\n",
    "        result+=arr2\n",
    "    else:\n",
    "        result+=arr1\n",
    "    return result"
   ]
  },
  {
   "cell_type": "markdown",
   "id": "913216ec",
   "metadata": {},
   "source": [
    "list usage:\n",
    "https://blog.csdn.net/laobai1015/article/details/85126659l\n",
    "tip:\n",
    "from heapq import merge记录了排序合并"
   ]
  },
  {
   "cell_type": "code",
   "execution_count": 3,
   "id": "1c93766f",
   "metadata": {},
   "outputs": [],
   "source": [
    "import random\n",
    "# 计算程序运行时间的库\n",
    "import datetime\n",
    "# 深度复制列表的库\n",
    "import copy\n",
    "\n",
    "num = range(0, 1000000)  # 范围在0到100000之间，需要用到range()函数。\n",
    "nums = random.sample(num, 10010)  # 选取10010个元素\n",
    "# 将nums深度复制为5份\n",
    "nums0 = copy.deepcopy(nums)\n",
    "nums1 = copy.deepcopy(nums)\n",
    "nums2 = copy.deepcopy(nums)\n",
    "nums3 = copy.deepcopy(nums)\n",
    "nums4 = copy.deepcopy(nums)\n",
    "nums5 = copy.deepcopy(nums)"
   ]
  },
  {
   "cell_type": "markdown",
   "id": "f5eb6216",
   "metadata": {},
   "source": [
    "random库\n",
    "https://blog.csdn.net/weixin_43509127/article/details/104203388"
   ]
  },
  {
   "cell_type": "code",
   "execution_count": 4,
   "id": "f7eed605",
   "metadata": {},
   "outputs": [],
   "source": [
    "# 冒泡排序\n",
    "def MP(nums):\n",
    "    for i in range(len(nums) - 1):\n",
    "        for j in range(len(nums) - i - 1):\n",
    "            if nums[j] > nums[j + 1]:  # 如果前面的数小于后面的数则交换二者的值\n",
    "                nums[j], nums[j + 1] = nums[j + 1], nums[j]"
   ]
  },
  {
   "cell_type": "code",
   "execution_count": 5,
   "id": "210d32d8",
   "metadata": {},
   "outputs": [],
   "source": [
    "# 插入排序\n",
    "def insertion_sort(nums):\n",
    "    for i in range(1, len(nums)):  \n",
    "        # 设置当前需要插入的元素\n",
    "        key = nums[i]\n",
    "        # 与当前元素比较的比较元素\n",
    "        preindex = i - 1\n",
    "        while preindex >= 0 and nums[preindex] > key:\n",
    "            # 当比较元素大于当前元素则把比较元素后移\n",
    "            nums[preindex + 1] = nums[preindex]\n",
    "            # 往前选择下一个比较元素\n",
    "            preindex -= 1\n",
    "        # 当比较元素小于当前元素 则把当前元素插入在其后\n",
    "        nums[preindex + 1] = key"
   ]
  },
  {
   "cell_type": "code",
   "execution_count": 6,
   "id": "186a2e05",
   "metadata": {},
   "outputs": [],
   "source": [
    "# 希尔排序\n",
    "def shell_sort(nums):\n",
    "    n = len(nums)\n",
    "    gap = n // 2  # 定义一个变量gap，确定分组长度\n",
    "    while gap > 0:\n",
    "        for i in range(gap, n):  # 开始插入排序\n",
    "            current = nums[i]\n",
    "            j = i - gap\n",
    "            if j >= 0 and nums[j] > current:\n",
    "                nums[j + gap] = nums[j]\n",
    "                j -= gap\n",
    "            nums[j + gap] = current  # 这里的j是减过gap后不满足循环条件，所以这里的j要加上gap\n",
    "\n",
    "        gap //= 2  # 将源列表分成更小的组，继续排序"
   ]
  },
  {
   "cell_type": "code",
   "execution_count": 7,
   "id": "f8402e59",
   "metadata": {},
   "outputs": [],
   "source": [
    "# 快速排序\n",
    "def quick_sort(nums):\n",
    "    if len(nums) >= 2:  # 进行快速排序\n",
    "        mid = nums[len(nums) // 2]\n",
    "        left = []\n",
    "        right = []\n",
    "        nums.remove(mid)\n",
    "        for num in nums:\n",
    "            if num >= mid:\n",
    "                right.append(num)\n",
    "            else:\n",
    "                left.append(num)\n",
    "        return quick_sort(left) + [mid] + quick_sort(right)\n",
    "    else:\n",
    "        return nums"
   ]
  },
  {
   "cell_type": "code",
   "execution_count": 8,
   "id": "7dbfe626",
   "metadata": {},
   "outputs": [
    {
     "name": "stdout",
     "output_type": "stream",
     "text": [
      "插入排序运行时间为: 6.248745 秒\n",
      "希尔排序运行时间为: 0.52825 秒\n",
      "冒泡排序运行时间为: 14.132319 秒\n",
      "选择排序运行时间为: 5.405001 秒\n",
      "快速排序运行时间为: 0.39629 秒\n",
      "归并排序运行时间为: 0.405930 秒\n"
     ]
    }
   ],
   "source": [
    "# 进行插入排序\n",
    "start0 = datetime.datetime.now()  # 记录插入排序开始时刻的时间\n",
    "insertion_sort(nums0)\n",
    "end0 = datetime.datetime.now()  # 记录插入排序结束的时刻\n",
    "print('插入排序运行时间为: %s.%s 秒' % ((end0 - start0).seconds, (end0 - start0).microseconds))  # 将插入排序所需时间输出\n",
    "t0 = end0 - start0\n",
    "\n",
    "# 进行希尔排序\n",
    "start1 = datetime.datetime.now()  # 记录希尔排序开始的时刻\n",
    "shell_sort(nums1)\n",
    "end1 = datetime.datetime.now()  # 记录希尔排序结束的时刻\n",
    "print('希尔排序运行时间为: %s.%s 秒' % ((end1 - start1).seconds, (end1 - start1).microseconds))  # 输出希尔排序时间\n",
    "t1 = end1 - start1\n",
    "\n",
    "# 进行冒泡排序\n",
    "start2 = datetime.datetime.now()  # 记录冒泡排序开始的时刻\n",
    "MP(nums2)\n",
    "end2 = datetime.datetime.now()  # 记录冒泡排序结束的时刻\n",
    "print('冒泡排序运行时间为: %s.%s 秒' % ((end2 - start2).seconds, (end2 - start2).microseconds))  # 输出冒泡排序时间\n",
    "t2 = end2 - start2\n",
    "\n",
    "# 进行选择排序\n",
    "start3 = datetime.datetime.now()  # 记录选择排序\n",
    "selection_sort(nums3)\n",
    "end3 = datetime.datetime.now()  # 记录选择排序结束的时刻\n",
    "print('选择排序运行时间为: %s.%s 秒' % ((end3 - start3).seconds, (end3 - start3).microseconds))  # 输出选择排序时间\n",
    "t3 = end3 - start3\n",
    "\n",
    "# 进行快速排序\n",
    "start4 = datetime.datetime.now()\n",
    "quick_sort(nums4)\n",
    "end4 = datetime.datetime.now()\n",
    "print('快速排序运行时间为: %s.%s 秒' % ((end4 - start4).seconds, (end4 - start4).microseconds))\n",
    "t4 = end4 - start4\n",
    "\n",
    "#进行归并排序\n",
    "start5 = datetime.datetime.now()\n",
    "merge_sort(nums5)\n",
    "end5 = datetime.datetime.now()\n",
    "print('归并排序运行时间为: %s.%s 秒' % ((end5 - start5).seconds, (end5 - start5).microseconds))\n",
    "t5 = end5 - start5"
   ]
  }
 ],
 "metadata": {
  "kernelspec": {
   "display_name": "Python 3 (ipykernel)",
   "language": "python",
   "name": "python3"
  },
  "language_info": {
   "codemirror_mode": {
    "name": "ipython",
    "version": 3
   },
   "file_extension": ".py",
   "mimetype": "text/x-python",
   "name": "python",
   "nbconvert_exporter": "python",
   "pygments_lexer": "ipython3",
   "version": "3.11.4"
  }
 },
 "nbformat": 4,
 "nbformat_minor": 5
}
