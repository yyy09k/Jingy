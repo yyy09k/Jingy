{
 "cells": [
  {
   "cell_type": "code",
   "execution_count": 2,
   "id": "879c2875",
   "metadata": {},
   "outputs": [
    {
     "name": "stdout",
     "output_type": "stream",
     "text": [
      "新闻数据已成功抓取并保存为 CSV 文件: xinlang_news.csv\n"
     ]
    }
   ],
   "source": [
    "import requests\n",
    "from bs4 import BeautifulSoup\n",
    "import csv\n",
    "import re\n",
    "\n",
    "\n",
    "def get_xinlang_news():\n",
    "    try:\n",
    "        url = 'https://news.sina.com.cn/world'\n",
    "        headers = {\n",
    "            'User-Agent': 'Mozilla/5.0 (Windows NT 10.0; Win64; x64) AppleWebKit/537.36 (KHTML, like Gecko) Chrome/91.0.4472.124 Safari/537.36',\n",
    "        }\n",
    "\n",
    "        response = requests.get(url, headers=headers)\n",
    "        response.encoding = 'utf-8'\n",
    "\n",
    "        soup = BeautifulSoup(response.text, 'html.parser')\n",
    "\n",
    "        # 获取所有新闻项：在 BeautifulSoup 对象 soup 中查找所有带有类名以 \"news-item\" 开头的 <div> 元素，并将它们存储在名为 news_items 的结果集合中\n",
    "        news_items = soup.find_all('div', class_=re.compile(r'^news-item'))\n",
    "\n",
    "        # 存储新闻信息的列表\n",
    "        news_data = []\n",
    "\n",
    "        for item in news_items:\n",
    "            try:\n",
    "                # 提取新闻主题、时间、摘要等信息，具体选择可能需要根据实际情况调整\n",
    "                title_element = item.find('h2')\n",
    "                title = title_element.text.strip() if title_element else \"No title\"\n",
    "                \n",
    "                time_element = item.find('div', class_='time')\n",
    "                time = time_element.text.strip() if time_element else \"No time\"\n",
    "\n",
    "                # 将信息存储为字典\n",
    "                news_data.append({\n",
    "                    'title': title,\n",
    "                    'time': time,\n",
    "                })\n",
    "            except Exception as e:\n",
    "                print(f\"Error extracting news item: {e}\")\n",
    "\n",
    "        return news_data\n",
    "    except Exception as e:\n",
    "        print(f\"Error fetching Sina news: {e}\")\n",
    "        return []\n",
    "\n",
    "\n",
    "def save_to_csv(news_data, filename='xinlang_news.csv'):\n",
    "    with open(filename, 'w', newline='', encoding='utf-8') as csvfile:\n",
    "        fieldnames = ['title', 'time', 'summary']\n",
    "        writer = csv.DictWriter(csvfile, fieldnames=fieldnames)\n",
    "        writer.writeheader()\n",
    "        for row in news_data:\n",
    "            writer.writerow(row)\n",
    "\n",
    "\n",
    "# 获取新浪网最近一天的新闻数据\n",
    "xinlang_news_data = get_xinlang_news()\n",
    "\n",
    "# 存储为 CSV 文件\n",
    "save_to_csv(xinlang_news_data)\n",
    "\n",
    "print('新闻数据已成功抓取并保存为 CSV 文件: xinlang_news.csv')"
   ]
  }
 ],
 "metadata": {
  "kernelspec": {
   "display_name": "Python 3 (ipykernel)",
   "language": "python",
   "name": "python3"
  },
  "language_info": {
   "codemirror_mode": {
    "name": "ipython",
    "version": 3
   },
   "file_extension": ".py",
   "mimetype": "text/x-python",
   "name": "python",
   "nbconvert_exporter": "python",
   "pygments_lexer": "ipython3",
   "version": "3.11.4"
  }
 },
 "nbformat": 4,
 "nbformat_minor": 5
}
