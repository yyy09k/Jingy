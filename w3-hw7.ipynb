{
 "cells": [
  {
   "cell_type": "markdown",
   "id": "0ef30478",
   "metadata": {},
   "source": [
    "求两个正整数的最大公约数"
   ]
  },
  {
   "cell_type": "code",
   "execution_count": 6,
   "id": "1a8df6c8",
   "metadata": {},
   "outputs": [
    {
     "name": "stdout",
     "output_type": "stream",
     "text": [
      "12\n",
      "3\n",
      "3\n"
     ]
    }
   ],
   "source": [
    "#辗转相除法\n",
    "a=int(input())\n",
    "b=int(input())\n",
    "max_num=max(a,b)\n",
    "min_num=a if b==max_num else b\n",
    "temp=max_num%min_num\n",
    "while temp!=0:\n",
    "    max_num=min_num\n",
    "    min_num=temp\n",
    "    temp=max_num%min_num\n",
    "print(\"%d\" %min_num)\n"
   ]
  }
 ],
 "metadata": {
  "kernelspec": {
   "display_name": "Python 3 (ipykernel)",
   "language": "python",
   "name": "python3"
  },
  "language_info": {
   "codemirror_mode": {
    "name": "ipython",
    "version": 3
   },
   "file_extension": ".py",
   "mimetype": "text/x-python",
   "name": "python",
   "nbconvert_exporter": "python",
   "pygments_lexer": "ipython3",
   "version": "3.11.4"
  }
 },
 "nbformat": 4,
 "nbformat_minor": 5
}
